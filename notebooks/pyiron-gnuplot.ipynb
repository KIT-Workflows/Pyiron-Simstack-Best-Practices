{
 "cells": [
  {
   "cell_type": "code",
   "execution_count": 5,
   "id": "d1ccbd6a-333c-4273-a68b-d178f09ca041",
   "metadata": {},
   "outputs": [],
   "source": [
    "import os\n",
    "import numpy as np"
   ]
  },
  {
   "cell_type": "code",
   "execution_count": 2,
   "id": "a0563f96-a712-4386-a762-338996cd2b53",
   "metadata": {},
   "outputs": [],
   "source": [
    "def generate_input(x, y, path):\n",
    "    data_file = os.path.join(path, 'xy.dat')\n",
    "    np.savetxt(data_file, np.stack((x, y), axis=-1))\n",
    "    gnuplot_script = \"f(x) = a*x+b\\nfit f(x) \\\"xy.dat\\\" using 1:2 via a,b\"\n",
    "    gnuplot_file = os.path.join(path, 'input.gnu')\n",
    "    with open(gnuplot_file, \"w\") as f:\n",
    "        f.write(gnuplot_script)"
   ]
  },
  {
   "cell_type": "code",
   "execution_count": 3,
   "id": "4da65034-9f97-429b-9ffe-0021ebb7247d",
   "metadata": {},
   "outputs": [],
   "source": [
    "executable = \"gnuplot \\\"input.gnu\\\"\""
   ]
  },
  {
   "cell_type": "code",
   "execution_count": 4,
   "id": "e47aacb6-0809-44f6-939a-325ff1b7db69",
   "metadata": {},
   "outputs": [],
   "source": [
    "def _get_gnuplot_parameter_line(content):\n",
    "    for ii, line in enumerate(content):\n",
    "        if line.startswith(\"Final set of parameters\"):\n",
    "            return ii + 2\n",
    "    raise ValueError(\"line not found\")\n",
    "    \n",
    "def get_gnuplot_parameters(content):\n",
    "    parameter_line = _get_gnuplot_parameter_line(content)\n",
    "    slope = float(content[parameter_line].split(\"=\")[1].split()[0])\n",
    "    intercept = float(content[parameter_line + 1].split(\"=\")[1].split()[0])\n",
    "    return slope, intercept\n",
    "\n",
    "def parse_output(path):\n",
    "    data_file = os.path.join(path, 'fit.log')\n",
    "    with open(data_file, \"r\") as f:\n",
    "        content = f.readlines()\n",
    "    return get_gnuplot_parameters(content)"
   ]
  },
  {
   "cell_type": "code",
   "execution_count": null,
   "id": "ee65edd0-4b23-44c1-804e-46bd177c4378",
   "metadata": {},
   "outputs": [],
   "source": []
  }
 ],
 "metadata": {
  "kernelspec": {
   "display_name": "pyiron",
   "language": "python",
   "name": "pyiron"
  },
  "language_info": {
   "codemirror_mode": {
    "name": "ipython",
    "version": 3
   },
   "file_extension": ".py",
   "mimetype": "text/x-python",
   "name": "python",
   "nbconvert_exporter": "python",
   "pygments_lexer": "ipython3",
   "version": "3.11.11"
  }
 },
 "nbformat": 4,
 "nbformat_minor": 5
}
